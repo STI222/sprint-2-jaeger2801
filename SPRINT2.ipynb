{
 "cells": [
  {
   "cell_type": "code",
   "execution_count": 2,
   "id": "1521a9bd",
   "metadata": {},
   "outputs": [],
   "source": [
    "import tkinter as tk\n",
    "import pandas as pd\n",
    "import numpy as np\n",
    "\n",
    "# Carga de la base de datos\n",
    "data = pd.read_csv(\"Datos SPRINT2.csv\")\n",
    "\n",
    "\n",
    "# Funcion para definir la similitud coseno\n",
    "def calcular_similitud():\n",
    "    # Obtener los nombres seleccionados en las listas desplegables\n",
    "    nombre1 = lista1.get()\n",
    "    nombre2 = lista2.get()\n",
    "    \n",
    "    \n",
    "    # Obtener los datos correspondientes a los nombres seleccionados\n",
    "    datos1 = data[data['nombre'] == nombre1].iloc[:, 1:].values\n",
    "    datos2 = data[data['nombre'] == nombre2].iloc[:, 1:].values\n",
    "    \n",
    "    # Calcular la similitud coseno entre los dos conjuntos de datos\n",
    "    # Se usa el método .flatten para transformar los datos en una matriz tridimensional\n",
    "    dot_product = np.dot(datos1.flatten(), datos2.flatten())\n",
    "    \n",
    "    # Se usa el método .linalg para calcular la norma Euclidiana de cada vector\n",
    "    norm1 = np.linalg.norm(datos1)\n",
    "    norm2 = np.linalg.norm(datos2)\n",
    "    similitud = dot_product / (norm1 * norm2)\n",
    "    \n",
    "    # Mostrar el resultado en la etiqueta correspondiente\n",
    "    resultado.config(text=\"La similitud coseno entre {} y {} es: {:.2f}\".format(nombre1, nombre2, similitud))\n",
    "    \n",
    "    \n",
    "\n",
    "# Crear la ventana principal y agregar los elementos\n",
    "ventana = tk.Tk()\n",
    "ventana.title(\"Calculadora de similitud coseno\")\n",
    "\n",
    "\n",
    "opciones = list(data['nombre'])\n",
    "lista1 = tk.StringVar(ventana)\n",
    "lista1.set(opciones[0])\n",
    "menu1 = tk.OptionMenu(ventana, lista1, *opciones)\n",
    "lista2 = tk.StringVar(ventana)\n",
    "lista2.set(opciones[0])\n",
    "menu2 = tk.OptionMenu(ventana, lista2, *opciones)\n",
    "\n",
    "boton = tk.Button(ventana, text=\"Calcular similitud\", command=calcular_similitud)\n",
    "\n",
    "resultado = tk.Label(ventana, text=\"Seleccione dos nombres para calcular la similitud coseno\")\n",
    "\n",
    "menu1.pack()\n",
    "menu2.pack()\n",
    "boton.pack()\n",
    "resultado.pack()\n",
    "\n",
    "\n",
    "ventana.mainloop()\n"
   ]
  },
  {
   "cell_type": "code",
   "execution_count": null,
   "id": "b4415308",
   "metadata": {},
   "outputs": [],
   "source": []
  },
  {
   "cell_type": "code",
   "execution_count": null,
   "id": "015a00c6",
   "metadata": {},
   "outputs": [],
   "source": []
  },
  {
   "cell_type": "code",
   "execution_count": null,
   "id": "65d28691",
   "metadata": {},
   "outputs": [],
   "source": []
  }
 ],
 "metadata": {
  "kernelspec": {
   "display_name": "Python 3 (ipykernel)",
   "language": "python",
   "name": "python3"
  },
  "language_info": {
   "codemirror_mode": {
    "name": "ipython",
    "version": 3
   },
   "file_extension": ".py",
   "mimetype": "text/x-python",
   "name": "python",
   "nbconvert_exporter": "python",
   "pygments_lexer": "ipython3",
   "version": "3.9.13"
  }
 },
 "nbformat": 4,
 "nbformat_minor": 5
}
